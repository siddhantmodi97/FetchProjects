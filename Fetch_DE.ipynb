{
 "cells": [
  {
   "cell_type": "raw",
   "metadata": {},
   "source": [
    "# Do you count punctuation or only words? No\n",
    "# Which words should matter in the similarity comparison? Yes, without stopwords\n",
    "# Do you care about the ordering of words? Yes, can change context\n",
    "# What metric do you use to assign a numerical value to the similarity? %\n",
    "# What type of data structures should be used? (Hint: Dictionaries and lists are particularly helpful data structures that can be leveraged to calculate the similarity of two pieces of text.)"
   ]
  },
  {
   "cell_type": "code",
   "execution_count": 2,
   "metadata": {},
   "outputs": [],
   "source": [
    "# Sample Text\n",
    "\n",
    "txt1=\"The easiest way to earn points with Fetch Rewards is to just shop for the products you already love. If you have any participating brands on your receipt, you'll get points based on the cost of the products. You don't need to clip any coupons or scan individual barcodes. Just scan each grocery receipt after you shop and we'll find the savings for you.\"\n",
    "txt2=\"The easiest way to earn points with Fetch Rewards is to just shop for the items you already buy. If you have any eligible brands on your receipt, you will get points based on the total cost of the products. You do not need to cut out any coupons or scan individual UPCs. Just scan your receipt after you check out and we will find the savings for you.\"\n",
    "txt3=\"We are always looking for opportunities for you to earn more points, which is why we also give you a selection of Special Offers. These Special Offers are opportunities to earn bonus points on top of the regular points you earn every time you purchase a participating brand. No need to pre-select these offers, we'll give you the points whether or not you knew about the offer. We just think it is easier that way.\""
   ]
  },
  {
   "cell_type": "markdown",
   "metadata": {},
   "source": [
    "# Using Cosine Similarity (Frequncy Based similarity)"
   ]
  },
  {
   "cell_type": "code",
   "execution_count": 3,
   "metadata": {},
   "outputs": [
    {
     "data": {
      "image/png": "[encoded data removed]",
      "text/plain": [
       "<IPython.core.display.Image object>"
      ]
     },
     "execution_count": 3,
     "metadata": {},
     "output_type": "execute_result"
    }
   ],
   "source": [
    "from IPython.display import Image\n",
    "Image(filename='C:/Users/siddh/Desktop/Fetch FT Challenge/DE/test.png') "
   ]
  },
  {
   "cell_type": "code",
   "execution_count": 4,
   "metadata": {},
   "outputs": [],
   "source": [
    "import math\n",
    "import re\n",
    "from collections import Counter\n",
    "\n",
    "WORD = re.compile(r\"\\w+\")\n",
    "def get_cosine(vec1, vec2):\n",
    "    intersection = set(vec1.keys()) & set(vec2.keys())\n",
    "    numerator = sum([vec1[x] * vec2[x] for x in intersection])\n",
    "    sum1 = sum([vec1[x] ** 2 for x in list(vec1.keys())])\n",
    "    sum2 = sum([vec2[x] ** 2 for x in list(vec2.keys())])\n",
    "    denominator = math.sqrt(sum1) * math.sqrt(sum2)\n",
    "\n",
    "    if not denominator:\n",
    "        return 0.0\n",
    "    else:\n",
    "        return float(numerator) / denominator\n",
    "\n",
    "def text_to_vector(text):\n",
    "    words = WORD.findall(text)\n",
    "    return Counter(words)"
   ]
  },
  {
   "cell_type": "markdown",
   "metadata": {},
   "source": [
    "### Sample Example"
   ]
  },
  {
   "cell_type": "code",
   "execution_count": 17,
   "metadata": {},
   "outputs": [
    {
     "name": "stdout",
     "output_type": "stream",
     "text": [
      "Cosine Similarity between text 1 and text 2:  0.8889103231346543\n",
      "Cosine Similarity between text 1 and text 3:  0.5912782150938842\n",
      "Cosine Similarity between text 2 and text 3:  0.5745586133367577\n"
     ]
    }
   ],
   "source": [
    "vector1 = text_to_vector(txt1.lower())\n",
    "vector2 = text_to_vector(txt2.lower())\n",
    "vector3 = text_to_vector(txt3.lower())\n",
    "\n",
    "print(\"Cosine Similarity between text 1 and text 2: \", get_cosine(vector1, vector2))\n",
    "print(\"Cosine Similarity between text 1 and text 3: \", get_cosine(vector1, vector3))\n",
    "print(\"Cosine Similarity between text 2 and text 3: \", get_cosine(vector2, vector3))"
   ]
  },
  {
   "cell_type": "markdown",
   "metadata": {},
   "source": [
    "# Post processing (Removal of abriviations and some stopwords) \n",
    "## The stopword list was found from nltk api documentation "
   ]
  },
  {
   "cell_type": "code",
   "execution_count": 5,
   "metadata": {},
   "outputs": [],
   "source": [
    "def clean(text):\n",
    "    if type(text) != str or text=='':\n",
    "        return ''\n",
    "    # Clean the text \n",
    "    text = text.lower() #change to lower case\n",
    "    text = re.sub(r'\\s+', ' ', text)    \n",
    "    text = re.sub(\"\\'s\", \" \", text) # For cases with 's '\n",
    "    text = re.sub(r'[^\\w\\s]','',text)     #remove commas\n",
    "    stopwords=['i', 'me', 'my', 'myself', 'we', 'our', 'ours', 'ourselves', 'you', \"you're\", \"you've\", \"you'll\", \"you'd\", 'your', 'yours', 'yourself', 'yourselves', 'he', 'him', 'his', 'himself', 'she', \"she's\", 'her', 'hers', 'herself', 'it', \"it's\", 'its', 'itself', 'they', 'them', 'their', 'theirs', 'themselves', 'what', 'which', 'who', 'whom', 'this', 'that', \"that'll\", 'these', 'those', 'am', 'is', 'are', 'was', 'were', 'be', 'been', 'being', 'have', 'has', 'had', 'having', 'do', 'does', 'did', 'doing', 'a', 'an', 'the', 'and', 'but', 'if', 'or', 'because', 'as', 'until', 'while', 'of', 'at', 'by', 'for', 'with', 'about', 'against', 'between', 'into', 'through', 'during', 'before', 'after', 'above', 'below', 'to', 'from', 'up', 'down', 'in', 'out', 'on', 'off', 'over', 'under', 'again', 'further', 'then', 'once', 'here', 'there', 'when', 'where', 'why', 'how', 'all', 'any', 'both', 'each', 'few', 'more', 'most', 'other', 'some', 'such', 'no', 'nor', 'not', 'only', 'own', 'same', 'so', 'than', 'too', 'very', 's', 't', 'can', 'will', 'just', 'don', \"don't\", 'should', \"should've\", 'now', 'd', 'll', 'm', 'o', 're', 've', 'y', 'ain', 'aren', \"aren't\", 'couldn', \"couldn't\", 'didn', \"didn't\", 'doesn', \"doesn't\", 'hadn', \"hadn't\", 'hasn', \"hasn't\", 'haven', \"haven't\", 'isn', \"isn't\", 'ma', 'mightn', \"mightn't\", 'mustn', \"mustn't\", 'needn', \"needn't\", 'shan', \"shan't\", 'shouldn', \"shouldn't\", 'wasn', \"wasn't\", 'weren', \"weren't\", 'won', \"won't\", 'wouldn', \"wouldn't\"]\n",
    "    #clean the data to remove stopwords\n",
    "    word_tokens = text.split(' ')\n",
    "    filtered_sentence = [w for w in word_tokens if not w in stopwords]\n",
    "    #Return a list of words\n",
    "    return Counter(filtered_sentence)"
   ]
  },
  {
   "cell_type": "markdown",
   "metadata": {},
   "source": [
    "### Sample Example"
   ]
  },
  {
   "cell_type": "code",
   "execution_count": 18,
   "metadata": {},
   "outputs": [
    {
     "name": "stdout",
     "output_type": "stream",
     "text": [
      "Cosine Similarity between text 1 and text 2:  0.7879092800517908\n",
      "Cosine Similarity between text 1 and text 3:  0.2794599840399787\n",
      "Cosine Similarity between text 2 and text 3:  0.26470046277199466\n"
     ]
    }
   ],
   "source": [
    "ctxt1=clean(txt1)\n",
    "ctxt2=clean(txt2)\n",
    "ctxt3=clean(txt3)\n",
    "\n",
    "print(\"Cosine Similarity between text 1 and text 2: \", get_cosine(ctxt1, ctxt2))\n",
    "print(\"Cosine Similarity between text 1 and text 3: \", get_cosine(ctxt1, ctxt3))\n",
    "print(\"Cosine Similarity between text 2 and text 3: \", get_cosine(ctxt2, ctxt3))"
   ]
  },
  {
   "cell_type": "markdown",
   "metadata": {},
   "source": [
    "### Significant drop in similarity as stopwords are fillers that don't add value to our text but are high in frequency hence removal leads to drop "
   ]
  },
  {
   "cell_type": "markdown",
   "metadata": {},
   "source": [
    "# Final Function for custom tests and use cases  \n",
    "   ## Method Signature ==> checksimilarity(customtxt1,customtxt2,to_clean?) \n",
    "   ## Default it will not clean, pass True to clean text "
   ]
  },
  {
   "cell_type": "code",
   "execution_count": 12,
   "metadata": {},
   "outputs": [],
   "source": [
    "def checksimilarity(txt1,txt2,cln=False):\n",
    "    if cln==False:\n",
    "        return \"Cosine Similarity between text 1 and text 2: \", get_cosine(text_to_vector(txt1.lower()),text_to_vector(txt2.lower()))\n",
    "    else:\n",
    "        return \"Cosine Similarity between cleaned text 1 and text 2: \", get_cosine(clean(txt1),clean(txt2))"
   ]
  },
  {
   "cell_type": "code",
   "execution_count": 19,
   "metadata": {},
   "outputs": [
    {
     "data": {
      "text/plain": [
       "('Cosine Similarity between text 1 and text 2: ', 0.0)"
      ]
     },
     "execution_count": 19,
     "metadata": {},
     "output_type": "execute_result"
    }
   ],
   "source": [
    "checksimilarity('Siddhant Modi','Data Engineer') # Based on previous submission :( "
   ]
  },
  {
   "cell_type": "code",
   "execution_count": null,
   "metadata": {},
   "outputs": [],
   "source": []
  }
 ],
 "metadata": {
  "kernelspec": {
   "display_name": "Python 3",
   "language": "python",
   "name": "python3"
  },
  "language_info": {
   "codemirror_mode": {
    "name": "ipython",
    "version": 3
   },
   "file_extension": ".py",
   "mimetype": "text/x-python",
   "name": "python",
   "nbconvert_exporter": "python",
   "pygments_lexer": "ipython3",
   "version": "3.7.4"
  }
 },
 "nbformat": 4,
 "nbformat_minor": 4
}
